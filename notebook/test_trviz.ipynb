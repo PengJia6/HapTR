{
 "cells": [
  {
   "cell_type": "code",
   "execution_count": 2,
   "metadata": {
    "collapsed": true,
    "ExecuteTime": {
     "end_time": "2023-09-18T07:46:44.410596300Z",
     "start_time": "2023-09-18T07:46:43.529340700Z"
    }
   },
   "outputs": [
    {
     "ename": "NameError",
     "evalue": "name 'fasta_file_path' is not defined",
     "output_type": "error",
     "traceback": [
      "\u001B[0;31m---------------------------------------------------------------------------\u001B[0m",
      "\u001B[0;31mNameError\u001B[0m                                 Traceback (most recent call last)",
      "Cell \u001B[0;32mIn[2], line 5\u001B[0m\n\u001B[1;32m      2\u001B[0m \u001B[38;5;28;01mfrom\u001B[39;00m \u001B[38;5;21;01mtrviz\u001B[39;00m\u001B[38;5;21;01m.\u001B[39;00m\u001B[38;5;21;01mutils\u001B[39;00m \u001B[38;5;28;01mimport\u001B[39;00m get_sample_and_sequence_from_fasta\n\u001B[1;32m      4\u001B[0m tr_visualizer \u001B[38;5;241m=\u001B[39m TandemRepeatVizWorker()\n\u001B[0;32m----> 5\u001B[0m sample_ids, tr_sequences \u001B[38;5;241m=\u001B[39m get_sample_and_sequence_from_fasta(\u001B[43mfasta_file_path\u001B[49m)\n\u001B[1;32m      6\u001B[0m tr_id \u001B[38;5;241m=\u001B[39m \u001B[38;5;124m\"\u001B[39m\u001B[38;5;124mCACNA1C\u001B[39m\u001B[38;5;124m\"\u001B[39m\n\u001B[1;32m      7\u001B[0m motifs \u001B[38;5;241m=\u001B[39m [\u001B[38;5;124m'\u001B[39m\u001B[38;5;124mGACCCTGACCTGACTAGTTTACAATCACAC\u001B[39m\u001B[38;5;124m'\u001B[39m]\n",
      "\u001B[0;31mNameError\u001B[0m: name 'fasta_file_path' is not defined"
     ]
    }
   ],
   "source": [
    "from trviz.main import TandemRepeatVizWorker\n",
    "from trviz.utils import get_sample_and_sequence_from_fasta\n",
    "\n",
    "tr_visualizer = TandemRepeatVizWorker()\n",
    "sample_ids, tr_sequences = get_sample_and_sequence_from_fasta()\n",
    "tr_id = \"CACNA1C\"\n",
    "motifs = ['GACCCTGACCTGACTAGTTTACAATCACAC']\n",
    "\n",
    "tr_visualizer.generate_trplot(tr_id, sample_ids, tr_sequences, motifs)"
   ]
  },
  {
   "cell_type": "code",
   "execution_count": null,
   "outputs": [],
   "source": [],
   "metadata": {
    "collapsed": false
   }
  },
  {
   "cell_type": "code",
   "execution_count": 14,
   "outputs": [
    {
     "data": {
      "text/plain": "['ATACCACCTTGACCTTGACCTTGATTCCTTG']"
     },
     "execution_count": 14,
     "metadata": {},
     "output_type": "execute_result"
    }
   ],
   "source": [
    "from trviz.decomposer import Decomposer\n",
    "\n",
    "tr_decomposer = Decomposer()\n",
    "tr_sequence = \"ATACCACCTTGACCTTGACCTTGATTCCTTG\"\n",
    "motifs = [\"A\"]\n",
    "tr_decomposer.decompose(tr_sequence, motifs)\n",
    "# >>> [\"ACCTTG\", \"ACCTTG\", \"ACCTTG\", \"ACCTTG\"]"
   ],
   "metadata": {
    "collapsed": false,
    "ExecuteTime": {
     "end_time": "2023-09-18T08:03:06.625511Z",
     "start_time": "2023-09-18T08:03:06.572187200Z"
    }
   }
  }
 ],
 "metadata": {
  "kernelspec": {
   "display_name": "Python 3",
   "language": "python",
   "name": "python3"
  },
  "language_info": {
   "codemirror_mode": {
    "name": "ipython",
    "version": 2
   },
   "file_extension": ".py",
   "mimetype": "text/x-python",
   "name": "python",
   "nbconvert_exporter": "python",
   "pygments_lexer": "ipython2",
   "version": "2.7.6"
  }
 },
 "nbformat": 4,
 "nbformat_minor": 0
}
